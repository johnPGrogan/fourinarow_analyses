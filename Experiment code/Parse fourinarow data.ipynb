{
 "cells": [
  {
   "cell_type": "code",
   "execution_count": null,
   "metadata": {},
   "outputs": [],
   "source": [
    "import numpy as np\n",
    "import pandas as pd\n",
    "import json\n",
    "from collections import defaultdict\n",
    "import matplotlib.pyplot as plt\n",
    "import matplotlib.patches as patches\n",
    "import os"
   ]
  },
  {
   "cell_type": "code",
   "execution_count": null,
   "metadata": {},
   "outputs": [],
   "source": [
    "def load_data(filename,participant_id):\n",
    "    df = pd.read_csv(direc + filename,header=None,names=['participant_id','i','ts','info'])\n",
    "    events = [json.loads(e) for e in df[df['participant_id']==participant_id]['info']]\n",
    "    return sorted(events,key=lambda e:e['event_time'])\n",
    "\n",
    "def get_events_with_condition(f,condition):\n",
    "    return [e for e in f if condition(e)]\n",
    "\n",
    "def get_event_with_condition(f,condition):\n",
    "    x = get_events_with_condition(f,condition)\n",
    "    if len(x)==1:\n",
    "        return x[0]\n",
    "    else:\n",
    "        return {}\n",
    "    \n",
    "def get_events_with_type(f,event_type):\n",
    "    return get_events_with_condition(f,lambda e: e['event_type'].replace('_',' ')==event_type.replace('_',' '))\n",
    "\n",
    "def get_event_with_type(f,event_type):\n",
    "    return get_event_with_condition(f,lambda e: e['event_type'].replace('_',' ')==event_type.replace('_',' '))\n",
    "\n",
    "def check_event_counts(data,num_games):\n",
    "    event_count_dict = defaultdict(lambda: 0, dict(zip(*np.unique([e['event_type'] for e in data],return_counts=True))))\n",
    "    print(dict(event_count_dict))\n",
    "    assert('start game' in event_count_dict and event_count_dict['start game']==num_games)\n",
    "    assert('end game' in event_count_dict and event_count_dict['end game']==num_games)\n",
    "    assert(event_count_dict['user move']==event_count_dict['your turn'])\n",
    "    assert(event_count_dict['opponent move']==event_count_dict['waiting for opponent'])\n",
    "    assert(event_count_dict['opponent win'] + event_count_dict['user win'] + event_count_dict['draw'] == event_count_dict['start game'])"
   ]
  },
  {
   "cell_type": "code",
   "execution_count": null,
   "metadata": {},
   "outputs": [],
   "source": [
    "# directory where your data is stored\n",
    "#direc = 'C:/Users/groganj/OneDrive - Nexus365/Other/MTurk/' #'C:/Users/svo/Documents/FourinarowData/'\n",
    "direc = 'C:/Users/groganj/Documents/Work/Experiments/Results/FourInARow/'\n",
    "#name of the user whose data you want to analyze\n",
    "usernames = ['debugDGQRE9:debugR28GMK'] #['109:R_1NurOLY6ru1XwrL','R_10pkDu4x8ARiMHf','R_cOwNfKZ17YDGcGR']\n",
    "#name of your data file\n",
    "filename = 'trialdata.csv' #'Pilotdata_8yo.csv'\n",
    "numGames = 20 + 2 # main + practice"
   ]
  },
  {
   "cell_type": "code",
   "execution_count": null,
   "metadata": {},
   "outputs": [],
   "source": [
    "data = [load_data(filename,username) for username in usernames]"
   ]
  },
  {
   "cell_type": "code",
   "execution_count": null,
   "metadata": {},
   "outputs": [],
   "source": [
    "#the second argument is the number of games that ought to exist for this user\n",
    "#if this function failes an assertion, something is wrong with your data\n",
    "#this function will print the count of all the event type in the data\n",
    "for d in data:\n",
    "    check_event_counts(d,numGames)"
   ]
  },
  {
   "cell_type": "code",
   "execution_count": null,
   "metadata": {},
   "outputs": [],
   "source": [
    "#helper functions that encode boards as and moves as integers for the model fitting pipeline\n",
    "def encode_board(pieces):\n",
    "    return np.sum([2**i for i,p in enumerate(pieces) if p=='1']).astype(np.int64)\n",
    "\n",
    "def encode_move(m):\n",
    "    return 2**m"
   ]
  },
  {
   "cell_type": "code",
   "execution_count": null,
   "metadata": {},
   "outputs": [],
   "source": [
    "def display_board(bp,wp,move,color):\n",
    "    fig = plt.figure()\n",
    "    ax = fig.add_subplot(111,aspect='equal')\n",
    "    rec = patches.Rectangle((-0.5,-0.5),9,4,color=\"gray\",fill=True,zorder=1)\n",
    "    ax.add_patch(rec)\n",
    "    ax.vlines(np.arange(-0.5,9.5,1),-0.5,3.5)\n",
    "    ax.hlines(np.arange(-0.5,4.5,1),-0.5,8.5)\n",
    "    for i in range(36):\n",
    "        if(bp[i]=='1'):\n",
    "            circ = patches.Circle((i%9,3-i//9),0.33,color=\"black\",fill=True)\n",
    "            circ = ax.add_patch(circ)\n",
    "        if(wp[i]=='1'):\n",
    "            circ = patches.Circle((i%9,3-i//9),0.33,color=\"white\",fill=True)\n",
    "            circ = ax.add_patch(circ)\n",
    "    circ = patches.Circle((move%9,3-move//9),0.33,color=color,fill=False)\n",
    "    circ = ax.add_patch(circ)\n",
    "    ax.axis('off')\n",
    "    plt.show()"
   ]
  },
  {
   "cell_type": "code",
   "execution_count": null,
   "metadata": {},
   "outputs": [],
   "source": [
    "def get_parsed_data(data):\n",
    "    your_turn_events = get_events_with_type(data,'your turn')\n",
    "    user_move_events = get_events_with_type(data,'user move')\n",
    "    assert(len(your_turn_events)==len(user_move_events))\n",
    "    return [(e['event_info']['bp'],e['event_info']['wp'],e['event_info']['tile'],\n",
    "             e['event_info']['user_color'],(e['event_time']-e_your_turn['event_time'])/1000)\n",
    "            for e_your_turn,e in zip(your_turn_events,user_move_events)]"
   ]
  },
  {
   "cell_type": "code",
   "execution_count": null,
   "metadata": {},
   "outputs": [],
   "source": [
    "def save_data(data):\n",
    "    if not os.path.exists(direc + 'raw/'):\n",
    "        os.mkdir(direc + 'raw/')\n",
    "    if not os.path.exists(direc + 'splits/'):\n",
    "        os.mkdir(direc + 'splits/')\n",
    "    for i,(d,username) in enumerate(zip(data,usernames)):\n",
    "        parsed_data = get_parsed_data(d)\n",
    "        with open(direc + 'raw/' + username.split(':')[0] + '.csv','w') as f:\n",
    "            df = pd.DataFrame([(encode_board(bp),encode_board(wp),c.upper(),encode_move(m),rt,username.split(':')[0]) for bp,wp,m,c,rt in parsed_data])\n",
    "            f.write(df.to_csv(None, index = False, header=False,sep='\\t',line_terminator ='\\n')[:-1])\n",
    "        group = (5*(np.random.permutation(len(parsed_data))/len(parsed_data))).astype(int)+1\n",
    "        if not os.path.exists(direc + 'splits/' + str(i+1)):\n",
    "            os.mkdir(direc + 'splits/' + str(i+1))\n",
    "        with open(direc + 'splits/' + str(i+1) + '/data.csv','w') as f:\n",
    "            df = pd.DataFrame([(encode_board(bp),encode_board(wp),c.upper(),encode_move(m),rt,g,username.split(':')[0]) for (bp,wp,m,c,rt),g in zip(parsed_data,group)])\n",
    "            f.write(df.to_csv(None, index = False, header=False,sep='\\t',line_terminator ='\\n')[:-1])\n",
    "        for g in range(1,6):\n",
    "            with open(direc + 'splits/' + str(i+1) + '/' + str(g) + '.csv','w') as f:\n",
    "                df = pd.DataFrame([(encode_board(bp),encode_board(wp),c.upper(),encode_move(m),rt,g,username.split(':')[0]) for (bp,wp,m,c,rt),g in zip(parsed_data,group)])\n",
    "                f.write(df[df[5]==g].to_csv(None, index = False, header=False,sep='\\t',line_terminator ='\\n')[:-1])\n"
   ]
  },
  {
   "cell_type": "code",
   "execution_count": null,
   "metadata": {},
   "outputs": [],
   "source": [
    "save_data(data)"
   ]
  },
  {
   "cell_type": "code",
   "execution_count": null,
   "metadata": {},
   "outputs": [],
   "source": [
    "for d in data:\n",
    "    for bp,wp,m,c,rt in get_parsed_data(d):\n",
    "        assert(len(bp.split('1'))-len(bp.split('1')) in [0,1])"
   ]
  },
  {
   "cell_type": "code",
   "execution_count": null,
   "metadata": {
    "scrolled": false
   },
   "outputs": [],
   "source": [
    "# this will print an image per move - very long\n",
    "for d in data:\n",
    "    for bp,wp,m,c,rt in get_parsed_data(d):\n",
    "        print(bp,wp,m,c,rt)\n",
    "        display_board(bp,wp,m,c)"
   ]
  },
  {
   "cell_type": "code",
   "execution_count": null,
   "metadata": {},
   "outputs": [],
   "source": [
    "[len(get_parsed_data(d)) for d in data]"
   ]
  },
  {
   "cell_type": "code",
   "execution_count": null,
   "metadata": {},
   "outputs": [],
   "source": [
    "print(os.path)"
   ]
  },
  {
   "cell_type": "code",
   "execution_count": null,
   "metadata": {},
   "outputs": [],
   "source": [
    "# "
   ]
  }
 ],
 "metadata": {
  "kernelspec": {
   "display_name": "Python 3",
   "language": "python",
   "name": "python3"
  },
  "language_info": {
   "codemirror_mode": {
    "name": "ipython",
    "version": 3
   },
   "file_extension": ".py",
   "mimetype": "text/x-python",
   "name": "python",
   "nbconvert_exporter": "python",
   "pygments_lexer": "ipython3",
   "version": "3.7.0"
  }
 },
 "nbformat": 4,
 "nbformat_minor": 2
}
